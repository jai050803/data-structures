{
 "cells": [
  {
   "cell_type": "markdown",
   "metadata": {},
   "source": [
    "# Linked List"
   ]
  },
  {
   "cell_type": "markdown",
   "metadata": {},
   "source": [
    "Linked list are the data structures which stores the data in nodes and references form"
   ]
  },
  {
   "cell_type": "markdown",
   "metadata": {},
   "source": [
    "#### Implementation of Linked List in Python"
   ]
  },
  {
   "cell_type": "code",
   "execution_count": null,
   "metadata": {},
   "outputs": [],
   "source": [
    "#creating a node class\n",
    "class Node:\n",
    "    def __init__(self,data): \n",
    "        self.data = data #each node store some data \n",
    "        self.next - None # each node also have pointers to point towards the next node initially None\n",
    "        \n",
    "# Define the LinkedList class\n",
    "class Linkedlist:\n",
    "    def __init__(self):\n",
    "        self.head = None #intialize the head of the linked list\n",
    "        \n",
    "    def append(self,data):\n",
    "        new_node = Node(data)\n",
    "        \n",
    "        if self.head is None:\n",
    "            self.head = new_node  #if the head is empty set the new node as the head\n",
    "            return\n",
    "    \n",
    "        last_node = self.head\n",
    "        while last_node.next: #traverse till the last node\n",
    "            last_node = last_node.next\n",
    "        last_node.next = new_node # Link the new node to the last node's next pointer\n",
    "        \n",
    "    def print_list(self):\n",
    "        current_node = self.head\n",
    "        while current_node:\n",
    "            print(current_node.data, end=\" -> \")\n",
    "            current_node = current_node.next\n",
    "        print(\"None\")\n",
    "        \n",
    "# Creating a linked list and adding nodes\n",
    "llist = LinkedList()\n",
    "llist.append(1)\n",
    "llist.append(2)\n",
    "llist.append(3)\n",
    "llist.append(4)\n",
    "        \n",
    "        \n",
    "    \n",
    "    \n",
    "    "
   ]
  }
 ],
 "metadata": {
  "kernelspec": {
   "display_name": "Python 3",
   "language": "python",
   "name": "python3"
  },
  "language_info": {
   "codemirror_mode": {
    "name": "ipython",
    "version": 3
   },
   "file_extension": ".py",
   "mimetype": "text/x-python",
   "name": "python",
   "nbconvert_exporter": "python",
   "pygments_lexer": "ipython3",
   "version": "3.12.3"
  }
 },
 "nbformat": 4,
 "nbformat_minor": 2
}
