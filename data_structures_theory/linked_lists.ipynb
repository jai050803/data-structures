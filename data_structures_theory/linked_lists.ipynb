{
 "cells": [
  {
   "cell_type": "markdown",
   "metadata": {},
   "source": [
    "# Linked List"
   ]
  },
  {
   "cell_type": "markdown",
   "metadata": {},
   "source": [
    "Linked list are the data structures which stores the data in nodes and references form"
   ]
  },
  {
   "cell_type": "markdown",
   "metadata": {},
   "source": [
    "#### Implementation of Linked List in Python"
   ]
  },
  {
   "cell_type": "code",
   "execution_count": 3,
   "metadata": {},
   "outputs": [
    {
     "name": "stdout",
     "output_type": "stream",
     "text": [
      "1 -> 2 -> 3 -> 4 -> None\n"
     ]
    }
   ],
   "source": [
    "# Define the Node class\n",
    "class Node:\n",
    "    def __init__(self, data):\n",
    "        self.data = data  # Each node stores some data\n",
    "        self.next = None  # Each node also has a pointer to the next node initially set to None\n",
    "\n",
    "# Define the LinkedList class\n",
    "class LinkedList:\n",
    "    def __init__(self):\n",
    "        self.head = None  # Initialize the head of the linked list\n",
    "\n",
    "    def append(self, data):\n",
    "        new_node = Node(data)  # Create a new node with the given data\n",
    "        \n",
    "        if self.head is None:\n",
    "            self.head = new_node  # If the linked list is empty, set the new node as the head\n",
    "            return\n",
    "        \n",
    "        last_node = self.head\n",
    "        while last_node.next:  # Traverse to the last node\n",
    "            last_node = last_node.next\n",
    "        \n",
    "        last_node.next = new_node  # Link the new node to the last node's next pointer\n",
    "\n",
    "    def print_list(self):\n",
    "        current_node = self.head\n",
    "        while current_node:\n",
    "            print(current_node.data, end=\" -> \")\n",
    "            current_node = current_node.next\n",
    "        print(\"None\")\n",
    "\n",
    "# Creating a linked list and adding nodes\n",
    "llist = LinkedList()\n",
    "llist.append(1)\n",
    "llist.append(2)\n",
    "llist.append(3)\n",
    "llist.append(4)\n",
    "\n",
    "# Printing the linked list\n",
    "llist.print_list()\n"
   ]
  },
  {
   "cell_type": "markdown",
   "metadata": {},
   "source": [
    "#### another example"
   ]
  },
  {
   "cell_type": "code",
   "execution_count": 5,
   "metadata": {},
   "outputs": [],
   "source": [
    "class LinkedList:\n",
    "    def __init__(self,data):\n",
    "        self.data = data\n",
    "        self.next = None\n",
    "        \n",
    "# Create animal nodes\n",
    "lion = Node(\"Lion\")\n",
    "tiger = Node(\"Tiger\")\n",
    "bear = Node(\"Bear\")\n",
    "fox = Node(\"Fox\")"
   ]
  }
 ],
 "metadata": {
  "kernelspec": {
   "display_name": "Python 3",
   "language": "python",
   "name": "python3"
  },
  "language_info": {
   "codemirror_mode": {
    "name": "ipython",
    "version": 3
   },
   "file_extension": ".py",
   "mimetype": "text/x-python",
   "name": "python",
   "nbconvert_exporter": "python",
   "pygments_lexer": "ipython3",
   "version": "3.12.3"
  }
 },
 "nbformat": 4,
 "nbformat_minor": 2
}
