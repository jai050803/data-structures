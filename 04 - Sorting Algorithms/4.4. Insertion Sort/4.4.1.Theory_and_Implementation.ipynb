{
 "cells": [
  {
   "cell_type": "markdown",
   "metadata": {},
   "source": [
    "## 4.4.1. Theory and Implementation of Insertion sort"
   ]
  },
  {
   "cell_type": "markdown",
   "metadata": {},
   "source": [
    "__Definition__ : Insertion sort is a simple algorithm that builds the final sorted array one item at a time. It is similar to sorting cards in your hands.\n",
    "\n",
    "__Step by Step Working__\n",
    "\n",
    "- select the second element and compare it with first element\n",
    "\n",
    "- if it is smaller then move it to first position.\n",
    "\n",
    "- similarly now compare third element to both elements and do the same thing.\n",
    "\n",
    "- Repeat this process till the elements are sorted in the array"
   ]
  },
  {
   "cell_type": "markdown",
   "metadata": {},
   "source": [
    "### Python implementation with Arrays"
   ]
  },
  {
   "cell_type": "code",
   "execution_count": null,
   "metadata": {},
   "outputs": [],
   "source": [
    "def insertion_sort(arr):\n",
    "    "
   ]
  }
 ],
 "metadata": {
  "kernelspec": {
   "display_name": "Python 3",
   "language": "python",
   "name": "python3"
  },
  "language_info": {
   "codemirror_mode": {
    "name": "ipython",
    "version": 3
   },
   "file_extension": ".py",
   "mimetype": "text/x-python",
   "name": "python",
   "nbconvert_exporter": "python",
   "pygments_lexer": "ipython3",
   "version": "3.12.5"
  }
 },
 "nbformat": 4,
 "nbformat_minor": 2
}
