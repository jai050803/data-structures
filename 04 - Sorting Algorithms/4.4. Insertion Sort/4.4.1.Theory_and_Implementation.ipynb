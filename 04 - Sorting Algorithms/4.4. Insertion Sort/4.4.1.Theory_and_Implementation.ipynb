{
 "cells": [
  {
   "cell_type": "markdown",
   "metadata": {},
   "source": [
    "## 4.4.1. Theory and Implementation of Insertion sort"
   ]
  },
  {
   "cell_type": "markdown",
   "metadata": {},
   "source": [
    "__Definition__ : Insertion sort is a simple algorithm that builds the final sorted array one item at a time. It is similar to sorting cards in your hands.\n",
    "\n",
    "__Step by Step Working__\n",
    "\n",
    "- select the second element and compare it with first element\n",
    "\n",
    "- if it is smaller then move it to first position.\n",
    "\n",
    "- similarly now compare third element to both elements and do the same thing.\n",
    "\n",
    "- Repeat this process till the elements are sorted in the array"
   ]
  },
  {
   "cell_type": "markdown",
   "metadata": {},
   "source": [
    "### Python implementation with Arrays"
   ]
  },
  {
   "cell_type": "code",
   "execution_count": 4,
   "metadata": {},
   "outputs": [
    {
     "data": {
      "text/plain": [
       "[1, 3, 4, 6, 7, 8]"
      ]
     },
     "execution_count": 4,
     "metadata": {},
     "output_type": "execute_result"
    }
   ],
   "source": [
    "def insertion_sort(arr):\n",
    "    #traversing from second element of the array..\n",
    "    n = len(arr)\n",
    "    for i in range(1,n):\n",
    "        key = arr[i]\n",
    "        j = i-1\n",
    "        while j>=0 and key < arr[j]:\n",
    "            arr[j+1] = arr[j]\n",
    "            j -= 1\n",
    "        arr[j+1] = key\n",
    "    return arr\n",
    "\n",
    "arr1 = [6,3,7,1,8,4]\n",
    "\n",
    "insertion_sort(arr1)"
   ]
  },
  {
   "cell_type": "code",
   "execution_count": 5,
   "metadata": {},
   "outputs": [
    {
     "data": {
      "text/plain": [
       "[10, 12, 27, 36, 39, 45, 100]"
      ]
     },
     "execution_count": 5,
     "metadata": {},
     "output_type": "execute_result"
    }
   ],
   "source": [
    "def insertion_sort(arr):\n",
    "    n = len(arr)\n",
    "    for i in range(1,n):\n",
    "        j = i-1\n",
    "        key = arr[i]\n",
    "        while j>=0 and key < arr[j]:\n",
    "            arr[j+1] = arr[j]\n",
    "            j -= 1\n",
    "        arr[j+1] = key\n",
    "    return arr\n",
    "\n",
    "arr3 = [45,36,27,39,12,10,100]\n",
    "\n",
    "insertion_sort(arr3)\n"
   ]
  },
  {
   "cell_type": "markdown",
   "metadata": {},
   "source": [
    "### Python Implementation of Insertion Sort with Linked Lists"
   ]
  },
  {
   "cell_type": "code",
   "execution_count": 11,
   "metadata": {},
   "outputs": [
    {
     "name": "stdout",
     "output_type": "stream",
     "text": [
      "4->6->1->45->23->12->64->2->4->6\n",
      "1->2->4->4->6->6->12->23->45->64\n"
     ]
    }
   ],
   "source": [
    "class Node:\n",
    "    def __init__(self, value=0, next=None):\n",
    "        self.value = value\n",
    "        self.next = None\n",
    "\n",
    "class LinkedList:\n",
    "    def __init__(self):\n",
    "        self.head = None\n",
    "    \n",
    "    def append(self, value):\n",
    "        new_node = Node(value)\n",
    "        if not self.head:\n",
    "            self.head = new_node\n",
    "            return\n",
    "        last = self.head\n",
    "        while last.next:\n",
    "            last = last.next\n",
    "        last.next = new_node\n",
    "\n",
    "    def print_list(self):\n",
    "        current = self.head\n",
    "        while current:\n",
    "            print(current.value, end=\"->\" if current.next else '\\n')\n",
    "            current = current.next\n",
    "\n",
    "    def insertion_sort(self):\n",
    "        sorted_head = None\n",
    "        current = self.head\n",
    "\n",
    "        while current:\n",
    "            next_node = current.next\n",
    "            sorted_head = self.sorted_insert(sorted_head, current)\n",
    "            current = next_node\n",
    "        \n",
    "        self.head = sorted_head\n",
    "\n",
    "    def sorted_insert(self, sorted_head, new_node):\n",
    "        if not sorted_head or new_node.value < sorted_head.value:\n",
    "            new_node.next = sorted_head\n",
    "            sorted_head = new_node\n",
    "\n",
    "        else:\n",
    "            current = sorted_head\n",
    "            while(current.next and current.next.value < new_node.value):\n",
    "                current = current.next\n",
    "            \n",
    "            new_node.next = current.next\n",
    "            current.next = new_node\n",
    "\n",
    "        return sorted_head\n",
    "\n",
    "linked_list = LinkedList()\n",
    "arr1 = [4,6,1,45,23,12,64,2,4,6]\n",
    "\n",
    "for value in arr1:\n",
    "    linked_list.append(value)\n",
    "\n",
    "linked_list.print_list()\n",
    "linked_list.insertion_sort()\n",
    "linked_list.print_list()\n",
    "\n",
    "\n"
   ]
  },
  {
   "cell_type": "markdown",
   "metadata": {},
   "source": []
  }
 ],
 "metadata": {
  "kernelspec": {
   "display_name": "Python 3",
   "language": "python",
   "name": "python3"
  },
  "language_info": {
   "codemirror_mode": {
    "name": "ipython",
    "version": 3
   },
   "file_extension": ".py",
   "mimetype": "text/x-python",
   "name": "python",
   "nbconvert_exporter": "python",
   "pygments_lexer": "ipython3",
   "version": "3.12.5"
  }
 },
 "nbformat": 4,
 "nbformat_minor": 2
}
