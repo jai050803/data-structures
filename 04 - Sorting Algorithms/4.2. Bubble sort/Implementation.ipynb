{
 "cells": [
  {
   "cell_type": "markdown",
   "metadata": {},
   "source": [
    "### 4.2.1. Implemenation and theory of bubble Sorting Algorithm"
   ]
  },
  {
   "cell_type": "markdown",
   "metadata": {},
   "source": [
    "#### Definition \n",
    "\n",
    "Simple sorting algorithm that works by -\n",
    "- repeatedly stepping through the list, \n",
    "- compare adjacent elements\n",
    "- swapping them if they are not in the order. \n",
    "- Repeat the Process till the list get sorted."
   ]
  },
  {
   "cell_type": "markdown",
   "metadata": {},
   "source": [
    "#### Python Implementation on Arrays"
   ]
  },
  {
   "cell_type": "code",
   "execution_count": 1,
   "metadata": {},
   "outputs": [
    {
     "name": "stdout",
     "output_type": "stream",
     "text": [
      "sorted array is  [1, 2, 4, 5, 8]\n"
     ]
    }
   ],
   "source": [
    "def bubble_sort(arr):\n",
    "    n = len(arr)\n",
    "    for i in range(n):\n",
    "        swapping = False\n",
    "        for j in range(0,n-i-1):\n",
    "            if arr[j] > arr[j+1]:\n",
    "                arr[j], arr[j+1] = arr[j+1], arr[j]\n",
    "                swapped = True\n",
    "        if not swapped:\n",
    "            break\n",
    "    return arr\n",
    "\n",
    "\n",
    "arr = [5,1,4,2,8]\n",
    "sorted_arr = bubble_sort(arr)\n",
    "print(\"sorted array is \", sorted_arr)"
   ]
  },
  {
   "cell_type": "markdown",
   "metadata": {},
   "source": [
    "#### STEPS\n",
    "\n",
    "- __Initialize__ : n set the length of array arr\n",
    "\n",
    "- __OuterLoop__ : runs n times, Each pass through the array is intended to move the next largest element into its correct position.\n",
    "\n",
    "- __Swapping Mechanism__ : Swap is set to false. Track if any variable is swapped during the loop.\n",
    "\n",
    "- __Inner Loop__ : \n",
    "    - iterates from the beginning of the array up to the part of the array that has not yet been sorted.\n",
    "    - The n-i-1 part ensures that each subsequent pass only needs to sort up to the last unsorted element, as the last i elements are already sorted.\n",
    "\n",
    "- __Comparison and swap__ : if statement check if jth element is greater than j+1 element and if true, swap them. and swapped variable is set to true\n",
    "\n",
    "- __Check if already sorted__ : if swapped is false, means array is sorted and stop the program and return array.\n",
    "\n"
   ]
  },
  {
   "cell_type": "markdown",
   "metadata": {},
   "source": [
    "### Python Implementation on Linked lists"
   ]
  },
  {
   "cell_type": "code",
   "execution_count": 3,
   "metadata": {},
   "outputs": [
    {
     "name": "stdout",
     "output_type": "stream",
     "text": [
      "7 -> 2 -> 3 -> 8\n"
     ]
    }
   ],
   "source": [
    "#Creating a linked list\n",
    "\n",
    "class Node:\n",
    "    def __init__(self, value=0, next=None):\n",
    "        self.value = value\n",
    "        self.next = None\n",
    "\n",
    "class LinkedList:\n",
    "    def __init__(self):\n",
    "        self.head=None\n",
    "    \n",
    "    def append(self, value):\n",
    "        new_node = Node(value)\n",
    "        if not self.head:\n",
    "            self.head = new_node\n",
    "            return\n",
    "        last = self.head\n",
    "        while last.next:\n",
    "            last = last.next\n",
    "        last.next = new_node\n",
    "\n",
    "    def print_list(self):\n",
    "        current = self.head\n",
    "        while current:\n",
    "            print(current.value, end = \" -> \" if current.next else \"\\n\")\n",
    "            current = current.next\n",
    "\n",
    "#creating a linked list and add the values\n",
    "linked_list = LinkedList()\n",
    "values = [7,2,3,8]\n",
    "for value in values:\n",
    "    linked_list.append(value)\n",
    "\n",
    "linked_list.print_list()\n"
   ]
  },
  {
   "cell_type": "code",
   "execution_count": 5,
   "metadata": {},
   "outputs": [
    {
     "name": "stdout",
     "output_type": "stream",
     "text": [
      "2 -> 3 -> 4 -> 5 -> 6 -> 7 -> 8\n"
     ]
    }
   ],
   "source": [
    "class Node:\n",
    "    def __init__(self, value=0, next=None):\n",
    "        self.value = value\n",
    "        self.next = None\n",
    "\n",
    "class LinkedList:\n",
    "    def __init__(self):\n",
    "        self.head = None\n",
    "    \n",
    "    def append(self,value):\n",
    "        new_node = Node(value)\n",
    "        if not self.head:\n",
    "            self.head = new_node\n",
    "            return\n",
    "        last = self.head\n",
    "        while last.next:\n",
    "            last = last.next\n",
    "        last.next = new_node\n",
    "\n",
    "    def print_list(self):\n",
    "        current = self.head\n",
    "        while current:\n",
    "            print(current.value, end=\" -> \" if current.next else \"\\n\")\n",
    "            current = current.next \n",
    "\n",
    "#putting values inside the created linked list\n",
    "linked_list = LinkedList()\n",
    "arr = [2,3,4,5,6,7,8]\n",
    "for i in arr:\n",
    "    linked_list.append(i)\n",
    "\n",
    "linked_list.print_list()\n",
    "\n"
   ]
  },
  {
   "cell_type": "markdown",
   "metadata": {},
   "source": [
    "#### Implementation of bubble sort in linked list"
   ]
  },
  {
   "cell_type": "code",
   "execution_count": 36,
   "metadata": {},
   "outputs": [
    {
     "name": "stdout",
     "output_type": "stream",
     "text": [
      "2 -> 3 -> 4 -> 5 -> 6 -> 7 -> 8 -> 9 -> 10 -> 11 -> 12 -> 14 -> 15 -> 17 -> 4 -> 3 -> 2 -> 1 -> 0\n",
      "0 -> 1 -> 2 -> 2 -> 3 -> 3 -> 4 -> 4 -> 5 -> 6 -> 7 -> 8 -> 9 -> 10 -> 11 -> 12 -> 14 -> 15 -> 17\n"
     ]
    }
   ],
   "source": [
    "class Node:\n",
    "    def __init__(self, value=0, next=None):\n",
    "        self.value = value\n",
    "        self.next = None\n",
    "\n",
    "class LinkedList:\n",
    "    def __init__(self):\n",
    "        self.head = None\n",
    "        self.size = 0\n",
    "    \n",
    "    def append(self,value):\n",
    "        new_node = Node(value)\n",
    "        if not self.head:\n",
    "            self.head = new_node\n",
    "            self.size += 1\n",
    "            return\n",
    "        last = self.head\n",
    "        while last.next:\n",
    "            last = last.next\n",
    "        last.next = new_node\n",
    "        self.size += 1 \n",
    "\n",
    "    def print_list(self):\n",
    "        current = self.head\n",
    "        while current:\n",
    "            print(current.value, end=\" -> \" if current.next else \"\\n\")\n",
    "            current = current.next \n",
    "    \n",
    "    def len(self):\n",
    "        return self.size\n",
    "\n",
    "    def bubble_sort(self):\n",
    "        if not self.head or not self.head.next:\n",
    "            return \n",
    "        \n",
    "        swapped = True\n",
    "        while swapped:\n",
    "            swapped = False\n",
    "            current = self.head\n",
    "            while current and current.next:\n",
    "                if current.value > current.next.value:\n",
    "                    current.value, current.next.value = current.next.value, current.value\n",
    "                    swapped = True\n",
    "                current = current.next\n",
    "        \n",
    "#putting values inside the created linked list\n",
    "linked_list = LinkedList()\n",
    "arr = [2,3,4,5,6,7,8,9,10,11,12,14,15,17,4,3,2,1,0]\n",
    "for i in arr:\n",
    "    linked_list.append(i)\n",
    "\n",
    "linked_list.print_list()\n",
    "linked_list.bubble_sort()\n",
    "linked_list.print_list()\n",
    "\n"
   ]
  }
 ],
 "metadata": {
  "kernelspec": {
   "display_name": "Python 3",
   "language": "python",
   "name": "python3"
  },
  "language_info": {
   "codemirror_mode": {
    "name": "ipython",
    "version": 3
   },
   "file_extension": ".py",
   "mimetype": "text/x-python",
   "name": "python",
   "nbconvert_exporter": "python",
   "pygments_lexer": "ipython3",
   "version": "3.12.5"
  }
 },
 "nbformat": 4,
 "nbformat_minor": 2
}
