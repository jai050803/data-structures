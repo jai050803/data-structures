{
 "cells": [
  {
   "cell_type": "markdown",
   "metadata": {},
   "source": [
    "### 4.3.1 Theory and implementation of selection Sort Algorithm"
   ]
  },
  {
   "cell_type": "markdown",
   "metadata": {},
   "source": [
    "Selection Sort is a simple sorting algorithm that works by repeatedly finding the minimum element from the unsorted portion of the list and moving it to the beginning."
   ]
  },
  {
   "cell_type": "markdown",
   "metadata": {},
   "source": [
    "__Steps for selection sort__ :\n",
    "\n",
    "- find smallest element and swap it with first element\n",
    "\n",
    "- the swapped element goes into sorted portion and other remains in unsorted portion\n",
    "\n",
    "- find the smallest element in unsorted portion and swap it again if possible\n",
    "\n",
    "- the swapped elements keep getting added into sorted portion and one by one unsorted portion decreases.\n",
    "\n",
    "- this goes till last element when no more swapping is needed and we get sorted list\n"
   ]
  },
  {
   "cell_type": "markdown",
   "metadata": {},
   "source": [
    "#### Python Implementation on array"
   ]
  }
 ],
 "metadata": {
  "kernelspec": {
   "display_name": "Python 3",
   "language": "python",
   "name": "python3"
  },
  "language_info": {
   "codemirror_mode": {
    "name": "ipython",
    "version": 3
   },
   "file_extension": ".py",
   "mimetype": "text/x-python",
   "name": "python",
   "nbconvert_exporter": "python",
   "pygments_lexer": "ipython3",
   "version": "3.12.5"
  }
 },
 "nbformat": 4,
 "nbformat_minor": 2
}
