{
 "cells": [
  {
   "cell_type": "markdown",
   "metadata": {},
   "source": [
    "# LeetCode Problems on Array"
   ]
  },
  {
   "cell_type": "markdown",
   "metadata": {},
   "source": [
    "#### __problem 1:__ Two Sum Problem"
   ]
  },
  {
   "cell_type": "code",
   "execution_count": 9,
   "metadata": {},
   "outputs": [
    {
     "data": {
      "text/plain": [
       "[0, 1]"
      ]
     },
     "execution_count": 9,
     "metadata": {},
     "output_type": "execute_result"
    }
   ],
   "source": [
    "nums = [2,7,11,15]\n",
    "target = 9\n",
    "\n",
    "def two_sum(nums: list[int], target: int) -> list[int]:\n",
    "    for i in range(0,len(nums)):\n",
    "        for j in range(0,len(nums)):\n",
    "            if nums[i] + nums[j] == target and i!=j:\n",
    "                return [i,j]\n",
    "\n",
    "two_sum(nums, target)\n",
    "        "
   ]
  },
  {
   "cell_type": "markdown",
   "metadata": {},
   "source": [
    "__Note:__ This is done using brute force where we iterate through each element of array twice and check if their sum is equal to the target value. If Yes then we return a list of their indices.\n",
    "\n",
    "- As it checks all the possible pairs so time complexity is O(n^2)."
   ]
  },
  {
   "cell_type": "markdown",
   "metadata": {},
   "source": [
    "#### __Problem 2:__ Remove duplicates from Sorted array"
   ]
  },
  {
   "cell_type": "markdown",
   "metadata": {},
   "source": [
    "we will use in-place algorithm here. In-place algorithm operates directly on the input data structure without requiring extra space proportional to input size. "
   ]
  },
  {
   "cell_type": "code",
   "execution_count": 31,
   "metadata": {},
   "outputs": [
    {
     "name": "stdout",
     "output_type": "stream",
     "text": [
      "[1, 2]\n"
     ]
    },
    {
     "data": {
      "text/plain": [
       "2"
      ]
     },
     "execution_count": 31,
     "metadata": {},
     "output_type": "execute_result"
    }
   ],
   "source": [
    "nums = [1,1,2]\n",
    "\n",
    "def removeDuplicates(nums: list[int]) -> int:\n",
    "        count =0\n",
    "        arr = []\n",
    "        for i in range(0,len(nums)):\n",
    "            if nums[i] not in arr:\n",
    "                arr.append(nums[i])\n",
    "                count+=1\n",
    "        print(arr)\n",
    "        return count\n",
    "\n",
    "removeDuplicates(nums)\n"
   ]
  },
  {
   "cell_type": "markdown",
   "metadata": {},
   "source": [
    "### __Problem 3:__ Find whether an array is a subset of another array\n",
    "\n",
    "- Given two arrays, arr1 and arr2 of size m and n respectively. Find if arr2 is a subset of arr1 or not.\n",
    "\n",
    "- Both the arrays are not sorted and order is distinct"
   ]
  },
  {
   "cell_type": "code",
   "execution_count": null,
   "metadata": {},
   "outputs": [],
   "source": [
    "arr1 = [11,1,13,21,3,7]\n",
    "arr2 = [11,3,7,1]\n",
    "\n",
    "for i in arr2:\n",
    "    if i in arr1:\n",
    "        print(Yes)\n",
    "        *-"
   ]
  },
  {
   "cell_type": "markdown",
   "metadata": {},
   "source": []
  }
 ],
 "metadata": {
  "kernelspec": {
   "display_name": "Python 3",
   "language": "python",
   "name": "python3"
  },
  "language_info": {
   "codemirror_mode": {
    "name": "ipython",
    "version": 3
   },
   "file_extension": ".py",
   "mimetype": "text/x-python",
   "name": "python",
   "nbconvert_exporter": "python",
   "pygments_lexer": "ipython3",
   "version": "3.12.3"
  }
 },
 "nbformat": 4,
 "nbformat_minor": 2
}
